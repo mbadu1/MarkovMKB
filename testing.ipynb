{
 "cells": [
  {
   "cell_type": "code",
   "execution_count": 6,
   "id": "7fed3b15",
   "metadata": {},
   "outputs": [],
   "source": [
    "import numpy\n",
    "from mtg import finish_sentence\n",
    "import nltk"
   ]
  },
  {
   "cell_type": "code",
   "execution_count": 15,
   "id": "72637a0f",
   "metadata": {},
   "outputs": [
    {
     "data": {
      "text/plain": [
       "['the',\n",
       " 'agony',\n",
       " 'of',\n",
       " 'grief',\n",
       " 'which',\n",
       " 'overpowered',\n",
       " 'them',\n",
       " 'at',\n",
       " 'first',\n",
       " ',']"
      ]
     },
     "execution_count": 15,
     "metadata": {},
     "output_type": "execute_result"
    }
   ],
   "source": [
    "corpus = tuple(\n",
    "        nltk.word_tokenize(nltk.corpus.gutenberg.raw(\"austen-sense.txt\").lower())\n",
    "    )\n",
    "sentence = ['the', 'agony', 'of']\n",
    "finish_sentence(sentence, 7, corpus, False)"
   ]
  },
  {
   "cell_type": "code",
   "execution_count": 18,
   "id": "82c1d190",
   "metadata": {},
   "outputs": [
    {
     "data": {
      "text/plain": [
       "['the',\n",
       " 'agony',\n",
       " 'of',\n",
       " 'grief',\n",
       " 'which',\n",
       " 'overpowered',\n",
       " 'them',\n",
       " 'at',\n",
       " 'first',\n",
       " ',']"
      ]
     },
     "execution_count": 18,
     "metadata": {},
     "output_type": "execute_result"
    }
   ],
   "source": [
    "sentence = ['the', 'agony', 'of']\n",
    "finish_sentence(sentence, 7, corpus, True)"
   ]
  },
  {
   "cell_type": "code",
   "execution_count": 20,
   "id": "f4f74fcc",
   "metadata": {},
   "outputs": [
    {
     "data": {
      "text/plain": [
       "['the',\n",
       " 'him',\n",
       " 'therefore',\n",
       " 'the',\n",
       " 'succession',\n",
       " 'to',\n",
       " 'the',\n",
       " 'drawing',\n",
       " 'room',\n",
       " 'repeated']"
      ]
     },
     "execution_count": 20,
     "metadata": {},
     "output_type": "execute_result"
    }
   ],
   "source": [
    "sentence = ['the', 'him', 'therefore', 'the', 'succession']\n",
    "finish_sentence(sentence, 3, corpus, True)"
   ]
  },
  {
   "cell_type": "code",
   "execution_count": 22,
   "id": "5976ae05",
   "metadata": {},
   "outputs": [
    {
     "data": {
      "text/plain": [
       "['the',\n",
       " 'him',\n",
       " 'therefore',\n",
       " 'the',\n",
       " 'succession',\n",
       " 'to',\n",
       " 'the',\n",
       " 'house',\n",
       " ',',\n",
       " 'and']"
      ]
     },
     "execution_count": 22,
     "metadata": {},
     "output_type": "execute_result"
    }
   ],
   "source": [
    "sentence = ['the', 'him', 'therefore', 'the', 'succession']\n",
    "finish_sentence(sentence, 3, corpus, False)"
   ]
  },
  {
   "cell_type": "code",
   "execution_count": 24,
   "id": "ce938a1a",
   "metadata": {},
   "outputs": [
    {
     "data": {
      "text/plain": [
       "['the', 'Fish', 'is', 'going', 'to', 'school', ',', 'was', 'as', 'lively']"
      ]
     },
     "execution_count": 24,
     "metadata": {},
     "output_type": "execute_result"
    }
   ],
   "source": [
    "sentence = ['the', 'Fish', 'is', 'going', 'to', 'school']\n",
    "finish_sentence(sentence, 4, corpus, True)"
   ]
  },
  {
   "cell_type": "code",
   "execution_count": 25,
   "id": "fb1ba360",
   "metadata": {},
   "outputs": [
    {
     "data": {
      "text/plain": [
       "['the', 'Fish', 'is', 'going', 'to', 'school', ',', 'she', 'could', 'not']"
      ]
     },
     "execution_count": 25,
     "metadata": {},
     "output_type": "execute_result"
    }
   ],
   "source": [
    "sentence = ['the', 'Fish', 'is', 'going', 'to', 'school']\n",
    "finish_sentence(sentence, 4, corpus, False)"
   ]
  },
  {
   "cell_type": "code",
   "execution_count": 26,
   "id": "e801349c",
   "metadata": {},
   "outputs": [
    {
     "data": {
      "text/plain": [
       "['the', 'boy', 'hates', 'Maths', 'in', 'University', 'that', 'i', 'had', 'so']"
      ]
     },
     "execution_count": 26,
     "metadata": {},
     "output_type": "execute_result"
    }
   ],
   "source": [
    "sentence = ['the', 'boy', 'hates', 'Maths', 'in', 'University']\n",
    "finish_sentence(sentence, 2, corpus, True)"
   ]
  },
  {
   "cell_type": "code",
   "execution_count": 27,
   "id": "3df7d82d",
   "metadata": {},
   "outputs": [
    {
     "data": {
      "text/plain": [
       "['the', 'boy', 'hates', 'Maths', 'in', 'University', ',', 'and', 'the', 'same']"
      ]
     },
     "execution_count": 27,
     "metadata": {},
     "output_type": "execute_result"
    }
   ],
   "source": [
    "sentence = ['the', 'boy', 'hates', 'Maths', 'in', 'University']\n",
    "finish_sentence(sentence, 2, corpus, False)"
   ]
  }
 ],
 "metadata": {
  "kernelspec": {
   "display_name": "base",
   "language": "python",
   "name": "python3"
  },
  "language_info": {
   "codemirror_mode": {
    "name": "ipython",
    "version": 3
   },
   "file_extension": ".py",
   "mimetype": "text/x-python",
   "name": "python",
   "nbconvert_exporter": "python",
   "pygments_lexer": "ipython3",
   "version": "3.12.11"
  }
 },
 "nbformat": 4,
 "nbformat_minor": 5
}
